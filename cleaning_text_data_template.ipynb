{
 "cells": [
  {
   "cell_type": "code",
   "execution_count": 1,
   "id": "c0fc98bd-1b61-4164-80d7-14548c805363",
   "metadata": {},
   "outputs": [],
   "source": [
    "import pandas as pd"
   ]
  },
  {
   "cell_type": "code",
   "execution_count": 2,
   "id": "240962f9-b120-403a-bd7e-34bf8f58dbe2",
   "metadata": {},
   "outputs": [],
   "source": [
    "df1 = pd.read_csv(\"breast_cancer.csv\")\n",
    "#df2 = pd.read_csv(\"2_rsa.csv\")\n",
    "#df3 = pd.read_csv(\"3_proximal_humeral.csv\")\n",
    "#df4 = pd.read_csv(\"4_prom.csv\")"
   ]
  },
  {
   "cell_type": "code",
   "execution_count": 3,
   "id": "7ee47f8b-f37c-45a4-a196-6730b332847e",
   "metadata": {},
   "outputs": [
    {
     "data": {
      "text/html": [
       "<div>\n",
       "<style scoped>\n",
       "    .dataframe tbody tr th:only-of-type {\n",
       "        vertical-align: middle;\n",
       "    }\n",
       "\n",
       "    .dataframe tbody tr th {\n",
       "        vertical-align: top;\n",
       "    }\n",
       "\n",
       "    .dataframe thead th {\n",
       "        text-align: right;\n",
       "    }\n",
       "</style>\n",
       "<table border=\"1\" class=\"dataframe\">\n",
       "  <thead>\n",
       "    <tr style=\"text-align: right;\">\n",
       "      <th></th>\n",
       "      <th>pubmed_id</th>\n",
       "      <th>title</th>\n",
       "      <th>abstract</th>\n",
       "      <th>authors</th>\n",
       "    </tr>\n",
       "  </thead>\n",
       "  <tbody>\n",
       "    <tr>\n",
       "      <th>0</th>\n",
       "      <td>36351764</td>\n",
       "      <td>DNA-Tetrahedra Corona-Modified Hydrogel Microc...</td>\n",
       "      <td>The assembly of adenosine triphosphate (ATP)-r...</td>\n",
       "      <td>[{'lastname': 'Fischer', 'firstname': 'Amit', ...</td>\n",
       "    </tr>\n",
       "    <tr>\n",
       "      <th>1</th>\n",
       "      <td>36351739</td>\n",
       "      <td>Invasion and Secondary Site Colonization as a ...</td>\n",
       "      <td>Increased breast tissue stiffness is correlate...</td>\n",
       "      <td>[{'lastname': 'Shah', 'firstname': 'Lekha', 'i...</td>\n",
       "    </tr>\n",
       "    <tr>\n",
       "      <th>2</th>\n",
       "      <td>36351714</td>\n",
       "      <td>Women's preference to apply shared decision-ma...</td>\n",
       "      <td>To analyse women's stated preferences for esta...</td>\n",
       "      <td>[{'lastname': 'Hernández-Leal', 'firstname': '...</td>\n",
       "    </tr>\n",
       "    <tr>\n",
       "      <th>3</th>\n",
       "      <td>36351632</td>\n",
       "      <td>Real-world data for the renal safety of abemac...</td>\n",
       "      <td>Our study evaluated the renal safety of abemac...</td>\n",
       "      <td>[{'lastname': 'Hao', 'firstname': 'Chunfang', ...</td>\n",
       "    </tr>\n",
       "    <tr>\n",
       "      <th>4</th>\n",
       "      <td>36351520</td>\n",
       "      <td>Extracellular matrix degrading enzyme with str...</td>\n",
       "      <td>Various anti-tumor nanomedicines have been dev...</td>\n",
       "      <td>[{'lastname': 'Ikeda-Imafuku', 'firstname': 'M...</td>\n",
       "    </tr>\n",
       "  </tbody>\n",
       "</table>\n",
       "</div>"
      ],
      "text/plain": [
       "   pubmed_id                                              title  \\\n",
       "0   36351764  DNA-Tetrahedra Corona-Modified Hydrogel Microc...   \n",
       "1   36351739  Invasion and Secondary Site Colonization as a ...   \n",
       "2   36351714  Women's preference to apply shared decision-ma...   \n",
       "3   36351632  Real-world data for the renal safety of abemac...   \n",
       "4   36351520  Extracellular matrix degrading enzyme with str...   \n",
       "\n",
       "                                            abstract  \\\n",
       "0  The assembly of adenosine triphosphate (ATP)-r...   \n",
       "1  Increased breast tissue stiffness is correlate...   \n",
       "2  To analyse women's stated preferences for esta...   \n",
       "3  Our study evaluated the renal safety of abemac...   \n",
       "4  Various anti-tumor nanomedicines have been dev...   \n",
       "\n",
       "                                             authors  \n",
       "0  [{'lastname': 'Fischer', 'firstname': 'Amit', ...  \n",
       "1  [{'lastname': 'Shah', 'firstname': 'Lekha', 'i...  \n",
       "2  [{'lastname': 'Hernández-Leal', 'firstname': '...  \n",
       "3  [{'lastname': 'Hao', 'firstname': 'Chunfang', ...  \n",
       "4  [{'lastname': 'Ikeda-Imafuku', 'firstname': 'M...  "
      ]
     },
     "execution_count": 3,
     "metadata": {},
     "output_type": "execute_result"
    }
   ],
   "source": [
    "#df_phf = pd.concat([df1, df2, df3, df4], ignore_index=True, axis=0)\n",
    "df1.head(5)"
   ]
  },
  {
   "cell_type": "code",
   "execution_count": 4,
   "id": "da50d1ca-c2e7-4d43-be99-7608d9157c89",
   "metadata": {},
   "outputs": [
    {
     "data": {
      "text/plain": [
       "(100000, 4)"
      ]
     },
     "execution_count": 4,
     "metadata": {},
     "output_type": "execute_result"
    }
   ],
   "source": [
    "df1.shape"
   ]
  },
  {
   "cell_type": "code",
   "execution_count": 5,
   "id": "9ba936d2-64de-43fb-92fb-e07083e96817",
   "metadata": {},
   "outputs": [],
   "source": [
    "df = df1.dropna(axis = 0)"
   ]
  },
  {
   "cell_type": "code",
   "execution_count": 6,
   "id": "37fd6453-fd3f-4dc2-a005-4ff6ca4a638c",
   "metadata": {},
   "outputs": [
    {
     "data": {
      "text/plain": [
       "(89993, 4)"
      ]
     },
     "execution_count": 6,
     "metadata": {},
     "output_type": "execute_result"
    }
   ],
   "source": [
    "df.shape"
   ]
  },
  {
   "cell_type": "code",
   "execution_count": 7,
   "id": "6a230c71-697c-4f5d-8077-0927c7a0390b",
   "metadata": {},
   "outputs": [
    {
     "name": "stderr",
     "output_type": "stream",
     "text": [
      "/local_scratch/pbs.292803.pbs02/ipykernel_158469/2539037844.py:1: SettingWithCopyWarning: \n",
      "A value is trying to be set on a copy of a slice from a DataFrame\n",
      "\n",
      "See the caveats in the documentation: https://pandas.pydata.org/pandas-docs/stable/user_guide/indexing.html#returning-a-view-versus-a-copy\n",
      "  df.drop(['pubmed_id' , 'authors'], inplace=True, axis=1)\n"
     ]
    }
   ],
   "source": [
    "df.drop(['pubmed_id' , 'authors'], inplace=True, axis=1)"
   ]
  },
  {
   "cell_type": "code",
   "execution_count": 8,
   "id": "40aa70d9-d9bc-4770-ab6c-16694dc541f2",
   "metadata": {},
   "outputs": [
    {
     "data": {
      "text/html": [
       "<div>\n",
       "<style scoped>\n",
       "    .dataframe tbody tr th:only-of-type {\n",
       "        vertical-align: middle;\n",
       "    }\n",
       "\n",
       "    .dataframe tbody tr th {\n",
       "        vertical-align: top;\n",
       "    }\n",
       "\n",
       "    .dataframe thead th {\n",
       "        text-align: right;\n",
       "    }\n",
       "</style>\n",
       "<table border=\"1\" class=\"dataframe\">\n",
       "  <thead>\n",
       "    <tr style=\"text-align: right;\">\n",
       "      <th></th>\n",
       "      <th>title</th>\n",
       "      <th>abstract</th>\n",
       "    </tr>\n",
       "  </thead>\n",
       "  <tbody>\n",
       "    <tr>\n",
       "      <th>0</th>\n",
       "      <td>DNA-Tetrahedra Corona-Modified Hydrogel Microc...</td>\n",
       "      <td>The assembly of adenosine triphosphate (ATP)-r...</td>\n",
       "    </tr>\n",
       "    <tr>\n",
       "      <th>1</th>\n",
       "      <td>Invasion and Secondary Site Colonization as a ...</td>\n",
       "      <td>Increased breast tissue stiffness is correlate...</td>\n",
       "    </tr>\n",
       "    <tr>\n",
       "      <th>2</th>\n",
       "      <td>Women's preference to apply shared decision-ma...</td>\n",
       "      <td>To analyse women's stated preferences for esta...</td>\n",
       "    </tr>\n",
       "    <tr>\n",
       "      <th>3</th>\n",
       "      <td>Real-world data for the renal safety of abemac...</td>\n",
       "      <td>Our study evaluated the renal safety of abemac...</td>\n",
       "    </tr>\n",
       "    <tr>\n",
       "      <th>4</th>\n",
       "      <td>Extracellular matrix degrading enzyme with str...</td>\n",
       "      <td>Various anti-tumor nanomedicines have been dev...</td>\n",
       "    </tr>\n",
       "  </tbody>\n",
       "</table>\n",
       "</div>"
      ],
      "text/plain": [
       "                                               title  \\\n",
       "0  DNA-Tetrahedra Corona-Modified Hydrogel Microc...   \n",
       "1  Invasion and Secondary Site Colonization as a ...   \n",
       "2  Women's preference to apply shared decision-ma...   \n",
       "3  Real-world data for the renal safety of abemac...   \n",
       "4  Extracellular matrix degrading enzyme with str...   \n",
       "\n",
       "                                            abstract  \n",
       "0  The assembly of adenosine triphosphate (ATP)-r...  \n",
       "1  Increased breast tissue stiffness is correlate...  \n",
       "2  To analyse women's stated preferences for esta...  \n",
       "3  Our study evaluated the renal safety of abemac...  \n",
       "4  Various anti-tumor nanomedicines have been dev...  "
      ]
     },
     "execution_count": 8,
     "metadata": {},
     "output_type": "execute_result"
    }
   ],
   "source": [
    "df.head(5)"
   ]
  },
  {
   "cell_type": "code",
   "execution_count": 10,
   "id": "ee045a36-0b7d-410a-a9bb-f9789df835cc",
   "metadata": {},
   "outputs": [
    {
     "data": {
      "text/plain": [
       "('Long-term survival of screen-detected synchronous and metachronous bilateral non-palpable breast cancer among Chinese women: a hospital-based study (2003-2017).',\n",
       " 'Screen-detected unilateral non-palpable breast cancer (NPBC) shows favorable prognosis, whereas bilateral breast cancer (BBC), especially synchronous BBC (SBBC) manifests worse survival than unilateral breast cancer (BC). It remains unclear whether screen-detected bilateral NPBC has compromised survival and requires intensified treatment or favorable prognosis and needs de-escalating therapy.\\nFrom 2003 to 2017, 1,075 consecutive NPBC patients were retrospectively reviewed. There were 988 patients with unilateral NPBC (UniNPBC), and 87 patients with ipsilateral NPBC\\u2009+\\u2009any contralateral BC [(N\\u2009+\\u2009AnyContra) PBC], including 32 patients with bilateral NPBC (BiNPBC) and 55 patients with ipsilateral NPBC\\u2009+\\u2009contralateral palpable cancer [(N\\u2009+\\u2009Contra) PBC]. Median follow-up time was 91 (48-227) months. Clinicopathological characteristics were compared between UniNPBC and BBC, whereas relapse-free survival (RFS) and overall survival (OS) among BBC subgroups. RFS and OS factors of BBC were identified.\\nCompared to UniNPBC, patients with screen-detected bilateral BC had more invasive (85.1%, 74.8%), ER negative (26.4%, 17.1%), PR negative (36.8%, 23.5%), triple-negative (21.6%, 8.5%) BC as well as less breast conserving surgery (17.2%, 32.4%), radiotherapy (13.8%, 32.0%) and endocrine therapy (71.3%, 83.9%). 10\\xa0year RFS and OS rates of (N\\u2009+\\u2009AnyContra) PBC (72.8%, 81.5%), (N\\u2009+\\u2009Contra) PBC (60.6%, 73.9%), and synchronous (N\\u2009+\\u2009Contra) PBC (58.1%, 70.1%) were significantly compromised compared to UniNPBC (91.0%, 97.2%). RFS factors of BBC included pN3 (p\\u2009=\\u20090.048), lymphovascular invasion (p\\u2009=\\u20090.008) and existence of contralateral palpable interval BC (p\\u2009=\\u20090.008), while the OS relevant factor was pN3 (p\\u2009=\\u20090.018).\\nScreen-detected bilateral NPBC including SynBiNPBC and MetaBiNPBC showed good prognosis as UniNPBC so that the therapy of BiNPBC could be de-escalated and optimized according to UniNPBC. Contrarily, screen-detected ipsilateral NPBC with contralateral palpable BC [(N\\u2009+\\u2009Contra) PBC] manifested unfavorable survival worse than UniNPBC and synchronous (N\\u2009+\\u2009Contra) PBC had the worst survival among all subgroups, implying that these were actually bilateral interval BC and required intensified treatment.')"
      ]
     },
     "execution_count": 10,
     "metadata": {},
     "output_type": "execute_result"
    }
   ],
   "source": [
    "df['title'][3000] , df['abstract'][3000]"
   ]
  },
  {
   "cell_type": "code",
   "execution_count": 11,
   "id": "ec9c1d73-7248-427e-876c-d19a5436ae43",
   "metadata": {},
   "outputs": [
    {
     "name": "stdout",
     "output_type": "stream",
     "text": [
      "0        DNA-Tetrahedra Corona-Modified Hydrogel Microc...\n",
      "1        Invasion and Secondary Site Colonization as a ...\n",
      "2        Women's preference to apply shared decision-ma...\n",
      "3        Real-world data for the renal safety of abemac...\n",
      "4        Extracellular matrix degrading enzyme with str...\n",
      "                               ...                        \n",
      "99995    Expression of urokinase plasminogen activator ...\n",
      "99996    Sub-lethal hyperthermia promotes epithelial-to...\n",
      "99997    [Clinical characteristic of 74 cases of malign...\n",
      "99998    ATM-Mediated Phosphorylation of Cortactin Invo...\n",
      "99999    StatPearlsPeutz-Jeghers syndrome (PJS) is a he...\n",
      "Length: 89993, dtype: object\n"
     ]
    }
   ],
   "source": [
    "df1= df[['title', 'abstract']].agg(''.join, axis=1)\n",
    "print(df1)"
   ]
  },
  {
   "cell_type": "code",
   "execution_count": 12,
   "id": "27520528-9260-4269-ab98-442a30860ad8",
   "metadata": {},
   "outputs": [
    {
     "data": {
      "text/html": [
       "<div>\n",
       "<style scoped>\n",
       "    .dataframe tbody tr th:only-of-type {\n",
       "        vertical-align: middle;\n",
       "    }\n",
       "\n",
       "    .dataframe tbody tr th {\n",
       "        vertical-align: top;\n",
       "    }\n",
       "\n",
       "    .dataframe thead th {\n",
       "        text-align: right;\n",
       "    }\n",
       "</style>\n",
       "<table border=\"1\" class=\"dataframe\">\n",
       "  <thead>\n",
       "    <tr style=\"text-align: right;\">\n",
       "      <th></th>\n",
       "      <th>text</th>\n",
       "    </tr>\n",
       "  </thead>\n",
       "  <tbody>\n",
       "    <tr>\n",
       "      <th>0</th>\n",
       "      <td>DNA-Tetrahedra Corona-Modified Hydrogel Microc...</td>\n",
       "    </tr>\n",
       "    <tr>\n",
       "      <th>1</th>\n",
       "      <td>Invasion and Secondary Site Colonization as a ...</td>\n",
       "    </tr>\n",
       "    <tr>\n",
       "      <th>2</th>\n",
       "      <td>Women's preference to apply shared decision-ma...</td>\n",
       "    </tr>\n",
       "    <tr>\n",
       "      <th>3</th>\n",
       "      <td>Real-world data for the renal safety of abemac...</td>\n",
       "    </tr>\n",
       "    <tr>\n",
       "      <th>4</th>\n",
       "      <td>Extracellular matrix degrading enzyme with str...</td>\n",
       "    </tr>\n",
       "  </tbody>\n",
       "</table>\n",
       "</div>"
      ],
      "text/plain": [
       "                                                text\n",
       "0  DNA-Tetrahedra Corona-Modified Hydrogel Microc...\n",
       "1  Invasion and Secondary Site Colonization as a ...\n",
       "2  Women's preference to apply shared decision-ma...\n",
       "3  Real-world data for the renal safety of abemac...\n",
       "4  Extracellular matrix degrading enzyme with str..."
      ]
     },
     "execution_count": 12,
     "metadata": {},
     "output_type": "execute_result"
    }
   ],
   "source": [
    "df1 = pd.DataFrame(data=df1)\n",
    "\n",
    "df1.rename(columns={0:'text'}, inplace=True)\n",
    "\n",
    "df1.head(5)"
   ]
  },
  {
   "cell_type": "code",
   "execution_count": 15,
   "id": "dcf4d7f8-62db-406e-8ab4-66fe5fef7c02",
   "metadata": {},
   "outputs": [
    {
     "data": {
      "text/plain": [
       "\"Improving mitotic cell counting accuracy and efficiency using phosphohistone-H3 (PHH3) antibody counterstained with haematoxylin and eosin as part of breast cancer grading.Mitotic count in breast cancer is an important prognostic marker. Unfortunately, substantial inter and intra-observer variation exists when pathologists manually count mitotic figures. To alleviate this problem, we developed a new technique incorporating both H&E and PHH3 a marker highly specific to mitotic figures and compared it to visual scoring of mitotic figures using H&E only.\\nTwo full-face sections from 97 cases were cut, one stained with H&E only, and the other was stained with PHH3 and counterstained with H&E (PHH3-H&E). Counting mitoses using PHH3-H&E was compared to traditional mitoses scoring using H&E in terms of reproducibility, scoring time and ability to detect mitosis hotspots. We assessed the agreement between manual and image analysis-assisted scoring of mitotic figures using H&E and PHH3-H&E-stained cells. The diagnostic performance of PHH3 in detecting mitotic figures in terms of sensitivity and specificity was measured. Finally, PHH3 replaced mitosis score in a multivariate analysis to assess its significance.\\nPathologists detected significantly higher mitotic figures using the PHH3-H&E (median ± SD, 20 ±\\u200933) compared with H&E alone (median ± SD, 16 ±\\u200925), p<0.001. The concordance between pathologists in identifying mitotic figures was highest when using the dual PHH3-H&E technique, in addition, it highlighted mitotic figures at low power, allowing better agreement on choosing hotspot area (k=\\u20090.842) in comparison with standard H&E (k=\\u20090.625). A better agreement between image analysis-assisted software and the human eye was observed for PHH3-stained mitotic figures. When the mitosis score was replaced with PHH3 in a Cox regression model with other grade components, PHH3 was an independent predictor of survival (HR 5.66, 95% CI 1.92-16.69; p=0.002), and even showed a more significant association with BC-specific survival (BCSS), than mitosis (HR 3.63, 95% CI 1.49-8.86; p=0.005) and Ki67 (p=0.27) CONCLUSION: Using PHH3-H&E-stained slides can reliably be used in routine scoring of mitotic figures and integrating both techniques will compensate for each other's limitations and improve diagnostic accuracy, quality, and precision.\""
      ]
     },
     "execution_count": 15,
     "metadata": {},
     "output_type": "execute_result"
    }
   ],
   "source": [
    "df1['text'][38]"
   ]
  },
  {
   "cell_type": "code",
   "execution_count": 16,
   "id": "c301b57e-4115-40cf-8f69-23c9fc3e6098",
   "metadata": {},
   "outputs": [
    {
     "data": {
      "text/plain": [
       "(89993, 1)"
      ]
     },
     "execution_count": 16,
     "metadata": {},
     "output_type": "execute_result"
    }
   ],
   "source": [
    "df1.shape"
   ]
  },
  {
   "cell_type": "code",
   "execution_count": 17,
   "id": "0511e584-47fe-4e4f-bd91-8934fa2e2fdd",
   "metadata": {},
   "outputs": [
    {
     "name": "stderr",
     "output_type": "stream",
     "text": [
      "/local_scratch/pbs.292803.pbs02/ipykernel_158469/1189863216.py:7: FutureWarning: The default value of regex will change from True to False in a future version. In addition, single character regular expressions will *not* be treated as literal strings when regex=True.\n",
      "  df1['text'] = df1['text'].str.replace(char, '')\n"
     ]
    }
   ],
   "source": [
    "spec_chars = [\"!\",'\"',\"#\",\"&\",\"'\",                \n",
    "              \"*\",\"+\",\"/\",\":\",\";\",\n",
    "              \"=\",\"?\",\"@\",\"[\",\"\\\\\",\"]\",\"^\",\"_\",\n",
    "              \"`\",\"{\",\"|\",\"}\",\"~\"]\n",
    "\n",
    "for char in spec_chars:\n",
    "    df1['text'] = df1['text'].str.replace(char, '')"
   ]
  },
  {
   "cell_type": "code",
   "execution_count": 18,
   "id": "60f64897-8c23-412d-b4b2-cc9af61ac4f0",
   "metadata": {},
   "outputs": [],
   "source": [
    "df1['text'] = df1['text'].str.split().str.join(\" \")"
   ]
  },
  {
   "cell_type": "code",
   "execution_count": 20,
   "id": "8b4fbf12-c0d9-4974-8e2d-37cb1a6607a2",
   "metadata": {},
   "outputs": [
    {
     "data": {
      "text/plain": [
       "'Improving mitotic cell counting accuracy and efficiency using phosphohistone-H3 (PHH3) antibody counterstained with haematoxylin and eosin as part of breast cancer grading.Mitotic count in breast cancer is an important prognostic marker. Unfortunately, substantial inter and intra-observer variation exists when pathologists manually count mitotic figures. To alleviate this problem, we developed a new technique incorporating both HE and PHH3 a marker highly specific to mitotic figures and compared it to visual scoring of mitotic figures using HE only. Two full-face sections from 97 cases were cut, one stained with HE only, and the other was stained with PHH3 and counterstained with HE (PHH3-HE). Counting mitoses using PHH3-HE was compared to traditional mitoses scoring using HE in terms of reproducibility, scoring time and ability to detect mitosis hotspots. We assessed the agreement between manual and image analysis-assisted scoring of mitotic figures using HE and PHH3-HE-stained cells. The diagnostic performance of PHH3 in detecting mitotic figures in terms of sensitivity and specificity was measured. Finally, PHH3 replaced mitosis score in a multivariate analysis to assess its significance. Pathologists detected significantly higher mitotic figures using the PHH3-HE (median ± SD, 20 ± 33) compared with HE alone (median ± SD, 16 ± 25), p<0.001. The concordance between pathologists in identifying mitotic figures was highest when using the dual PHH3-HE technique, in addition, it highlighted mitotic figures at low power, allowing better agreement on choosing hotspot area (k 0.842) in comparison with standard HE (k 0.625). A better agreement between image analysis-assisted software and the human eye was observed for PHH3-stained mitotic figures. When the mitosis score was replaced with PHH3 in a Cox regression model with other grade components, PHH3 was an independent predictor of survival (HR 5.66, 95% CI 1.92-16.69 p0.002), and even showed a more significant association with BC-specific survival (BCSS), than mitosis (HR 3.63, 95% CI 1.49-8.86 p0.005) and Ki67 (p0.27) CONCLUSION Using PHH3-HE-stained slides can reliably be used in routine scoring of mitotic figures and integrating both techniques will compensate for each others limitations and improve diagnostic accuracy, quality, and precision.'"
      ]
     },
     "execution_count": 20,
     "metadata": {},
     "output_type": "execute_result"
    }
   ],
   "source": [
    "df1['text'][38]"
   ]
  },
  {
   "cell_type": "code",
   "execution_count": 21,
   "id": "7b815081-5d47-4a84-ae5d-4c242cb7e35b",
   "metadata": {},
   "outputs": [],
   "source": [
    "df1.to_csv('clean_breast_cancer.csv', index = False) "
   ]
  },
  {
   "cell_type": "code",
   "execution_count": 22,
   "id": "df94197b-a012-41c4-9d0e-1a6cd05d9bc9",
   "metadata": {},
   "outputs": [],
   "source": [
    "df2 = pd.read_csv(\"clean_breast_cancer.csv\")"
   ]
  },
  {
   "cell_type": "code",
   "execution_count": 23,
   "id": "3bc70c68-bbeb-4811-ac27-5f0daea8ad7d",
   "metadata": {},
   "outputs": [
    {
     "data": {
      "text/html": [
       "<div>\n",
       "<style scoped>\n",
       "    .dataframe tbody tr th:only-of-type {\n",
       "        vertical-align: middle;\n",
       "    }\n",
       "\n",
       "    .dataframe tbody tr th {\n",
       "        vertical-align: top;\n",
       "    }\n",
       "\n",
       "    .dataframe thead th {\n",
       "        text-align: right;\n",
       "    }\n",
       "</style>\n",
       "<table border=\"1\" class=\"dataframe\">\n",
       "  <thead>\n",
       "    <tr style=\"text-align: right;\">\n",
       "      <th></th>\n",
       "      <th>text</th>\n",
       "    </tr>\n",
       "  </thead>\n",
       "  <tbody>\n",
       "    <tr>\n",
       "      <th>0</th>\n",
       "      <td>DNA-Tetrahedra Corona-Modified Hydrogel Microc...</td>\n",
       "    </tr>\n",
       "    <tr>\n",
       "      <th>1</th>\n",
       "      <td>Invasion and Secondary Site Colonization as a ...</td>\n",
       "    </tr>\n",
       "    <tr>\n",
       "      <th>2</th>\n",
       "      <td>Womens preference to apply shared decision-mak...</td>\n",
       "    </tr>\n",
       "    <tr>\n",
       "      <th>3</th>\n",
       "      <td>Real-world data for the renal safety of abemac...</td>\n",
       "    </tr>\n",
       "    <tr>\n",
       "      <th>4</th>\n",
       "      <td>Extracellular matrix degrading enzyme with str...</td>\n",
       "    </tr>\n",
       "    <tr>\n",
       "      <th>5</th>\n",
       "      <td>Association Between Frailty and Time Alive and...</td>\n",
       "    </tr>\n",
       "    <tr>\n",
       "      <th>6</th>\n",
       "      <td>Association Between Cancer Center Accreditatio...</td>\n",
       "    </tr>\n",
       "    <tr>\n",
       "      <th>7</th>\n",
       "      <td>Nomogram for Early Prediction of Pathological ...</td>\n",
       "    </tr>\n",
       "    <tr>\n",
       "      <th>8</th>\n",
       "      <td>Impact of the COVID-19 Pandemic on Cancer Stag...</td>\n",
       "    </tr>\n",
       "    <tr>\n",
       "      <th>9</th>\n",
       "      <td>Phosphorescent Metal Halide Nanoclusters for T...</td>\n",
       "    </tr>\n",
       "  </tbody>\n",
       "</table>\n",
       "</div>"
      ],
      "text/plain": [
       "                                                text\n",
       "0  DNA-Tetrahedra Corona-Modified Hydrogel Microc...\n",
       "1  Invasion and Secondary Site Colonization as a ...\n",
       "2  Womens preference to apply shared decision-mak...\n",
       "3  Real-world data for the renal safety of abemac...\n",
       "4  Extracellular matrix degrading enzyme with str...\n",
       "5  Association Between Frailty and Time Alive and...\n",
       "6  Association Between Cancer Center Accreditatio...\n",
       "7  Nomogram for Early Prediction of Pathological ...\n",
       "8  Impact of the COVID-19 Pandemic on Cancer Stag...\n",
       "9  Phosphorescent Metal Halide Nanoclusters for T..."
      ]
     },
     "execution_count": 23,
     "metadata": {},
     "output_type": "execute_result"
    }
   ],
   "source": [
    "df2.head(10)"
   ]
  },
  {
   "cell_type": "code",
   "execution_count": 25,
   "id": "588ebcf1-8dce-4a2c-8677-6666e290dba3",
   "metadata": {},
   "outputs": [
    {
     "data": {
      "text/plain": [
       "'Synthesis, biological evaluation and molecular docking of new triphenylamine-linked pyridine, thiazole and pyrazole analogues as anticancer agents.A new series of pyridine, thiazole, and pyrazole analogues were synthesized. The pyridone analogues 4a-e were synthesized by treating N-aryl-2-cyano-3-(4-(diphenylamino)phenyl)acrylamides 3a-e with malononitrile. Many 4-arylidene-thiazolidin-5-one analogues 6a-d were obtained by Knoevenagel reactions of 4-(diphenylamino)benzaldehyde (1) with their corresponding thiazolidin-5-one derivatives 5a-d. The structural elucidation of the products was proven by the collections of spectroscopic methods such as IR,'"
      ]
     },
     "execution_count": 25,
     "metadata": {},
     "output_type": "execute_result"
    }
   ],
   "source": [
    "df2['text'][89]"
   ]
  },
  {
   "cell_type": "code",
   "execution_count": 26,
   "id": "3ded2755-ee45-478d-85dc-58ce11c8e974",
   "metadata": {},
   "outputs": [
    {
     "data": {
      "text/plain": [
       "(89993, 1)"
      ]
     },
     "execution_count": 26,
     "metadata": {},
     "output_type": "execute_result"
    }
   ],
   "source": [
    "df2.shape"
   ]
  },
  {
   "cell_type": "code",
   "execution_count": 27,
   "id": "a1790977-9b8e-4584-b201-afabafd71411",
   "metadata": {},
   "outputs": [],
   "source": [
    "df2 = df1.drop_duplicates(keep= 'first')"
   ]
  },
  {
   "cell_type": "code",
   "execution_count": 28,
   "id": "30a420c8-ebf6-4249-9675-98c87eac1982",
   "metadata": {},
   "outputs": [
    {
     "data": {
      "text/plain": [
       "(89974, 1)"
      ]
     },
     "execution_count": 28,
     "metadata": {},
     "output_type": "execute_result"
    }
   ],
   "source": [
    "df2.shape"
   ]
  },
  {
   "cell_type": "code",
   "execution_count": 29,
   "id": "2e3acfca-22c6-4cea-832e-92003bde0fa0",
   "metadata": {},
   "outputs": [],
   "source": [
    "df2.to_csv('clean_bc.csv', index = False) "
   ]
  },
  {
   "cell_type": "code",
   "execution_count": 30,
   "id": "ef47bc91-c9b4-4022-bc42-be6bf620b0ed",
   "metadata": {},
   "outputs": [],
   "source": [
    "df = pd.read_csv(\"clean_bc.csv\")"
   ]
  },
  {
   "cell_type": "code",
   "execution_count": 34,
   "id": "7fed3222-ac90-4057-992a-3e5de61de0b6",
   "metadata": {},
   "outputs": [
    {
     "data": {
      "text/plain": [
       "'Post-Mastectomy Tissue Expander Placement Followed by Radiation Therapy A Cost-Effectiveness Analysis of Staged Autologous Versus Implant-Based Unilateral Reconstruction.There is no preferred approach to breast reconstruction for patients with locally advanced breast cancer (LABC) who require post-mastectomy radiation therapy (PMRT). Staged implant and autologous reconstruction both have unique risks and benefits. No previous study has compared their cost-effectiveness with utility scores. A literature review determined the probabilities and outcomes for mastectomy and staged implant or autologous reconstruction. Utility scores were used to calculate the quality-adjusted life years (QALYs) associated with successful surgery and postoperative complications. Medicare billing codes were used to assess costs. A decision analysis tree was constructed with rollback and incremental cost-effectiveness ratio (ICER) analyses. Sensitivity analyses were performed to validate results and account for uncertainty. Mastectomy with staged deep inferior epigastric perforator (DIEP) flap reconstruction is costlier ($14,104.80 vs $3216.93), but more effective (QALYs, 29.96 vs 24.87). This resulted in an ICER of 2141.00, favoring autologous reconstruction. One-way sensitivity analysis showed that autologous reconstruction was more cost-effective if less than $257,444.13. Monte Carlo analysis showed a confidence of 99.99% that DIEP flap reconstruction is more cost-effective. For patients with LABC who require PMRT, staged autologous reconstruction is significantly more cost-effective than reconstruction with implants. Despite the decreased morbidity, staged implant reconstruction has greater rates of complication.'"
      ]
     },
     "execution_count": 34,
     "metadata": {},
     "output_type": "execute_result"
    }
   ],
   "source": [
    "df['text'][50]"
   ]
  },
  {
   "cell_type": "code",
   "execution_count": null,
   "id": "24c1d015-9414-46a7-926e-053d07b6a304",
   "metadata": {},
   "outputs": [],
   "source": []
  },
  {
   "cell_type": "code",
   "execution_count": null,
   "id": "5bb74bc8-90fe-4eb9-a6b4-b0e473c824ab",
   "metadata": {},
   "outputs": [],
   "source": []
  },
  {
   "cell_type": "code",
   "execution_count": null,
   "id": "1ebbb826-9a65-49a9-b3dc-48df406111c9",
   "metadata": {},
   "outputs": [],
   "source": []
  }
 ],
 "metadata": {
  "kernelspec": {
   "display_name": "Python 3 (ipykernel)",
   "language": "python",
   "name": "python3"
  },
  "language_info": {
   "codemirror_mode": {
    "name": "ipython",
    "version": 3
   },
   "file_extension": ".py",
   "mimetype": "text/x-python",
   "name": "python",
   "nbconvert_exporter": "python",
   "pygments_lexer": "ipython3",
   "version": "3.8.3"
  }
 },
 "nbformat": 4,
 "nbformat_minor": 5
}
